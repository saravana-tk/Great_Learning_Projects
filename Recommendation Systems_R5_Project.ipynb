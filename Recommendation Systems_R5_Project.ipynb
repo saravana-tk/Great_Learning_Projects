{
 "cells": [
  {
   "cell_type": "code",
   "execution_count": 1,
   "metadata": {},
   "outputs": [],
   "source": [
    "#Import the required packages\n",
    "import pandas as pd\n",
    "import seaborn as sns\n"
   ]
  },
  {
   "cell_type": "code",
   "execution_count": 2,
   "metadata": {},
   "outputs": [],
   "source": [
    "#Read the dataset\n",
    "ratings = pd.read_csv('/Users/SaravanaTK/Downloads/ratings_Electronics.csv', header=None, names=[\"UserID\", \"ProductID\", \"Ratings\", \"TimeStamp\"])"
   ]
  },
  {
   "cell_type": "code",
   "execution_count": 3,
   "metadata": {},
   "outputs": [
    {
     "data": {
      "text/html": [
       "<div>\n",
       "<style scoped>\n",
       "    .dataframe tbody tr th:only-of-type {\n",
       "        vertical-align: middle;\n",
       "    }\n",
       "\n",
       "    .dataframe tbody tr th {\n",
       "        vertical-align: top;\n",
       "    }\n",
       "\n",
       "    .dataframe thead th {\n",
       "        text-align: right;\n",
       "    }\n",
       "</style>\n",
       "<table border=\"1\" class=\"dataframe\">\n",
       "  <thead>\n",
       "    <tr style=\"text-align: right;\">\n",
       "      <th></th>\n",
       "      <th>UserID</th>\n",
       "      <th>ProductID</th>\n",
       "      <th>Ratings</th>\n",
       "      <th>TimeStamp</th>\n",
       "    </tr>\n",
       "  </thead>\n",
       "  <tbody>\n",
       "    <tr>\n",
       "      <td>0</td>\n",
       "      <td>AKM1MP6P0OYPR</td>\n",
       "      <td>0132793040</td>\n",
       "      <td>5.0</td>\n",
       "      <td>1365811200</td>\n",
       "    </tr>\n",
       "    <tr>\n",
       "      <td>1</td>\n",
       "      <td>A2CX7LUOHB2NDG</td>\n",
       "      <td>0321732944</td>\n",
       "      <td>5.0</td>\n",
       "      <td>1341100800</td>\n",
       "    </tr>\n",
       "    <tr>\n",
       "      <td>2</td>\n",
       "      <td>A2NWSAGRHCP8N5</td>\n",
       "      <td>0439886341</td>\n",
       "      <td>1.0</td>\n",
       "      <td>1367193600</td>\n",
       "    </tr>\n",
       "    <tr>\n",
       "      <td>3</td>\n",
       "      <td>A2WNBOD3WNDNKT</td>\n",
       "      <td>0439886341</td>\n",
       "      <td>3.0</td>\n",
       "      <td>1374451200</td>\n",
       "    </tr>\n",
       "    <tr>\n",
       "      <td>4</td>\n",
       "      <td>A1GI0U4ZRJA8WN</td>\n",
       "      <td>0439886341</td>\n",
       "      <td>1.0</td>\n",
       "      <td>1334707200</td>\n",
       "    </tr>\n",
       "    <tr>\n",
       "      <td>5</td>\n",
       "      <td>A1QGNMC6O1VW39</td>\n",
       "      <td>0511189877</td>\n",
       "      <td>5.0</td>\n",
       "      <td>1397433600</td>\n",
       "    </tr>\n",
       "    <tr>\n",
       "      <td>6</td>\n",
       "      <td>A3J3BRHTDRFJ2G</td>\n",
       "      <td>0511189877</td>\n",
       "      <td>2.0</td>\n",
       "      <td>1397433600</td>\n",
       "    </tr>\n",
       "    <tr>\n",
       "      <td>7</td>\n",
       "      <td>A2TY0BTJOTENPG</td>\n",
       "      <td>0511189877</td>\n",
       "      <td>5.0</td>\n",
       "      <td>1395878400</td>\n",
       "    </tr>\n",
       "    <tr>\n",
       "      <td>8</td>\n",
       "      <td>A34ATBPOK6HCHY</td>\n",
       "      <td>0511189877</td>\n",
       "      <td>5.0</td>\n",
       "      <td>1395532800</td>\n",
       "    </tr>\n",
       "    <tr>\n",
       "      <td>9</td>\n",
       "      <td>A89DO69P0XZ27</td>\n",
       "      <td>0511189877</td>\n",
       "      <td>5.0</td>\n",
       "      <td>1395446400</td>\n",
       "    </tr>\n",
       "  </tbody>\n",
       "</table>\n",
       "</div>"
      ],
      "text/plain": [
       "           UserID   ProductID  Ratings   TimeStamp\n",
       "0   AKM1MP6P0OYPR  0132793040      5.0  1365811200\n",
       "1  A2CX7LUOHB2NDG  0321732944      5.0  1341100800\n",
       "2  A2NWSAGRHCP8N5  0439886341      1.0  1367193600\n",
       "3  A2WNBOD3WNDNKT  0439886341      3.0  1374451200\n",
       "4  A1GI0U4ZRJA8WN  0439886341      1.0  1334707200\n",
       "5  A1QGNMC6O1VW39  0511189877      5.0  1397433600\n",
       "6  A3J3BRHTDRFJ2G  0511189877      2.0  1397433600\n",
       "7  A2TY0BTJOTENPG  0511189877      5.0  1395878400\n",
       "8  A34ATBPOK6HCHY  0511189877      5.0  1395532800\n",
       "9   A89DO69P0XZ27  0511189877      5.0  1395446400"
      ]
     },
     "execution_count": 3,
     "metadata": {},
     "output_type": "execute_result"
    }
   ],
   "source": [
    "#Print top 10 rows\n",
    "ratings.head(10)"
   ]
  },
  {
   "cell_type": "code",
   "execution_count": 4,
   "metadata": {},
   "outputs": [
    {
     "name": "stdout",
     "output_type": "stream",
     "text": [
      "<class 'pandas.core.frame.DataFrame'>\n",
      "RangeIndex: 7824482 entries, 0 to 7824481\n",
      "Data columns (total 4 columns):\n",
      "UserID       object\n",
      "ProductID    object\n",
      "Ratings      float64\n",
      "TimeStamp    int64\n",
      "dtypes: float64(1), int64(1), object(2)\n",
      "memory usage: 238.8+ MB\n"
     ]
    }
   ],
   "source": [
    "#Print the dataframe metadata information\n",
    "ratings.info()"
   ]
  },
  {
   "cell_type": "code",
   "execution_count": 5,
   "metadata": {},
   "outputs": [
    {
     "data": {
      "text/plain": [
       "(7824482, 4)"
      ]
     },
     "execution_count": 5,
     "metadata": {},
     "output_type": "execute_result"
    }
   ],
   "source": [
    "#Print the shape of the ratings dataframe. 7.8M+ rows.\n",
    "ratings.shape"
   ]
  },
  {
   "cell_type": "code",
   "execution_count": 6,
   "metadata": {},
   "outputs": [
    {
     "data": {
      "text/html": [
       "<div>\n",
       "<style scoped>\n",
       "    .dataframe tbody tr th:only-of-type {\n",
       "        vertical-align: middle;\n",
       "    }\n",
       "\n",
       "    .dataframe tbody tr th {\n",
       "        vertical-align: top;\n",
       "    }\n",
       "\n",
       "    .dataframe thead th {\n",
       "        text-align: right;\n",
       "    }\n",
       "</style>\n",
       "<table border=\"1\" class=\"dataframe\">\n",
       "  <thead>\n",
       "    <tr style=\"text-align: right;\">\n",
       "      <th></th>\n",
       "      <th>Ratings</th>\n",
       "      <th>TimeStamp</th>\n",
       "    </tr>\n",
       "  </thead>\n",
       "  <tbody>\n",
       "    <tr>\n",
       "      <td>count</td>\n",
       "      <td>7.824482e+06</td>\n",
       "      <td>7.824482e+06</td>\n",
       "    </tr>\n",
       "    <tr>\n",
       "      <td>mean</td>\n",
       "      <td>4.012337e+00</td>\n",
       "      <td>1.338178e+09</td>\n",
       "    </tr>\n",
       "    <tr>\n",
       "      <td>std</td>\n",
       "      <td>1.380910e+00</td>\n",
       "      <td>6.900426e+07</td>\n",
       "    </tr>\n",
       "    <tr>\n",
       "      <td>min</td>\n",
       "      <td>1.000000e+00</td>\n",
       "      <td>9.127296e+08</td>\n",
       "    </tr>\n",
       "    <tr>\n",
       "      <td>25%</td>\n",
       "      <td>3.000000e+00</td>\n",
       "      <td>1.315354e+09</td>\n",
       "    </tr>\n",
       "    <tr>\n",
       "      <td>50%</td>\n",
       "      <td>5.000000e+00</td>\n",
       "      <td>1.361059e+09</td>\n",
       "    </tr>\n",
       "    <tr>\n",
       "      <td>75%</td>\n",
       "      <td>5.000000e+00</td>\n",
       "      <td>1.386115e+09</td>\n",
       "    </tr>\n",
       "    <tr>\n",
       "      <td>max</td>\n",
       "      <td>5.000000e+00</td>\n",
       "      <td>1.406074e+09</td>\n",
       "    </tr>\n",
       "  </tbody>\n",
       "</table>\n",
       "</div>"
      ],
      "text/plain": [
       "            Ratings     TimeStamp\n",
       "count  7.824482e+06  7.824482e+06\n",
       "mean   4.012337e+00  1.338178e+09\n",
       "std    1.380910e+00  6.900426e+07\n",
       "min    1.000000e+00  9.127296e+08\n",
       "25%    3.000000e+00  1.315354e+09\n",
       "50%    5.000000e+00  1.361059e+09\n",
       "75%    5.000000e+00  1.386115e+09\n",
       "max    5.000000e+00  1.406074e+09"
      ]
     },
     "execution_count": 6,
     "metadata": {},
     "output_type": "execute_result"
    }
   ],
   "source": [
    "#Describe the ratings data\n",
    "ratings.describe()"
   ]
  },
  {
   "cell_type": "code",
   "execution_count": 7,
   "metadata": {},
   "outputs": [
    {
     "data": {
      "text/plain": [
       "UserID       0\n",
       "ProductID    0\n",
       "Ratings      0\n",
       "TimeStamp    0\n",
       "dtype: int64"
      ]
     },
     "execution_count": 7,
     "metadata": {},
     "output_type": "execute_result"
    }
   ],
   "source": [
    "#Looks like there are no NAN values\n",
    "ratings.isna().sum()"
   ]
  },
  {
   "cell_type": "code",
   "execution_count": 8,
   "metadata": {},
   "outputs": [],
   "source": [
    "#Import matplotlib\n",
    "import matplotlib.pyplot as py\n",
    "%matplotlib inline"
   ]
  },
  {
   "cell_type": "code",
   "execution_count": 9,
   "metadata": {},
   "outputs": [
    {
     "data": {
      "text/plain": [
       "Text(3.209869432890254, 4108426.245, 'Mean: 4.01')"
      ]
     },
     "execution_count": 9,
     "metadata": {},
     "output_type": "execute_result"
    },
    {
     "data": {
      "image/png": "[encoded data removed]",
      "text/plain": [
       "<Figure size 432x288 with 1 Axes>"
      ]
     },
     "metadata": {
      "needs_background": "light"
     },
     "output_type": "display_data"
    }
   ],
   "source": [
    "#Histogram for Ratings with Mean and Median value\n",
    "py.hist(ratings['Ratings'], color = 'blue', edgecolor = 'black')\n",
    "\n",
    "py.title('Distribution of Ratings')\n",
    "py.xlabel('Ratings')\n",
    "py.ylabel('Count')\n",
    "py.axvline(ratings['Ratings'].median(), linestyle='dashed', linewidth = 1)\n",
    "min_ylim, max_ylim = py.ylim()\n",
    "py.text(ratings['Ratings'].median()*1.05, max_ylim*0.9, 'Median: {:.2f}'.format(ratings['Ratings'].median()))\n",
    "py.axvline(ratings['Ratings'].mean(), linestyle='dashed', linewidth = 1)\n",
    "py.text(ratings['Ratings'].mean()*0.8, max_ylim*0.9, 'Mean: {:.2f}'.format(ratings['Ratings'].mean()))"
   ]
  },
  {
   "cell_type": "code",
   "execution_count": 10,
   "metadata": {},
   "outputs": [
    {
     "data": {
      "text/html": [
       "<div>\n",
       "<style scoped>\n",
       "    .dataframe tbody tr th:only-of-type {\n",
       "        vertical-align: middle;\n",
       "    }\n",
       "\n",
       "    .dataframe tbody tr th {\n",
       "        vertical-align: top;\n",
       "    }\n",
       "\n",
       "    .dataframe thead th {\n",
       "        text-align: right;\n",
       "    }\n",
       "</style>\n",
       "<table border=\"1\" class=\"dataframe\">\n",
       "  <thead>\n",
       "    <tr style=\"text-align: right;\">\n",
       "      <th></th>\n",
       "      <th>UserID</th>\n",
       "      <th>ProductID</th>\n",
       "      <th>TimeStamp</th>\n",
       "    </tr>\n",
       "    <tr>\n",
       "      <th>Ratings</th>\n",
       "      <th></th>\n",
       "      <th></th>\n",
       "      <th></th>\n",
       "    </tr>\n",
       "  </thead>\n",
       "  <tbody>\n",
       "    <tr>\n",
       "      <td>1.0</td>\n",
       "      <td>901765</td>\n",
       "      <td>901765</td>\n",
       "      <td>901765</td>\n",
       "    </tr>\n",
       "    <tr>\n",
       "      <td>2.0</td>\n",
       "      <td>456322</td>\n",
       "      <td>456322</td>\n",
       "      <td>456322</td>\n",
       "    </tr>\n",
       "    <tr>\n",
       "      <td>3.0</td>\n",
       "      <td>633073</td>\n",
       "      <td>633073</td>\n",
       "      <td>633073</td>\n",
       "    </tr>\n",
       "    <tr>\n",
       "      <td>4.0</td>\n",
       "      <td>1485781</td>\n",
       "      <td>1485781</td>\n",
       "      <td>1485781</td>\n",
       "    </tr>\n",
       "    <tr>\n",
       "      <td>5.0</td>\n",
       "      <td>4347541</td>\n",
       "      <td>4347541</td>\n",
       "      <td>4347541</td>\n",
       "    </tr>\n",
       "  </tbody>\n",
       "</table>\n",
       "</div>"
      ],
      "text/plain": [
       "          UserID  ProductID  TimeStamp\n",
       "Ratings                               \n",
       "1.0       901765     901765     901765\n",
       "2.0       456322     456322     456322\n",
       "3.0       633073     633073     633073\n",
       "4.0      1485781    1485781    1485781\n",
       "5.0      4347541    4347541    4347541"
      ]
     },
     "execution_count": 10,
     "metadata": {},
     "output_type": "execute_result"
    }
   ],
   "source": [
    "#Nearly 5.8M+ ratings with value 4.0 and 5.0\n",
    "ratings.groupby('Ratings').count()"
   ]
  },
  {
   "cell_type": "code",
   "execution_count": 11,
   "metadata": {},
   "outputs": [],
   "source": [
    "#ratings[['UserID','Ratings']].groupby('UserID').count()\n",
    "filter = ratings.UserID.value_counts()"
   ]
  },
  {
   "cell_type": "code",
   "execution_count": 12,
   "metadata": {},
   "outputs": [
    {
     "data": {
      "text/plain": [
       "A5JLAU2ARJ0BO     520\n",
       "ADLVFFE4VBT8      501\n",
       "A3OXHLG6DIBRW8    498\n",
       "A6FIAB28IS79      431\n",
       "A680RUE1FDO8B     406\n",
       "                 ... \n",
       "A20P3RDQU7ERLF      1\n",
       "A1OK3REQTPVHVJ      1\n",
       "A1AP5HA4GVFBZS      1\n",
       "AQYDEKH8H1LXM       1\n",
       "A2IRGF8P6T9K9Q      1\n",
       "Name: UserID, Length: 4201696, dtype: int64"
      ]
     },
     "execution_count": 12,
     "metadata": {},
     "output_type": "execute_result"
    }
   ],
   "source": [
    "filter"
   ]
  },
  {
   "cell_type": "code",
   "execution_count": 13,
   "metadata": {},
   "outputs": [],
   "source": [
    "#Convert to Pandas dataframe\n",
    "filter = filter.to_frame()"
   ]
  },
  {
   "cell_type": "code",
   "execution_count": 14,
   "metadata": {},
   "outputs": [
    {
     "name": "stdout",
     "output_type": "stream",
     "text": [
      "<class 'pandas.core.frame.DataFrame'>\n",
      "Index: 4201696 entries, A5JLAU2ARJ0BO to A2IRGF8P6T9K9Q\n",
      "Data columns (total 1 columns):\n",
      "UserID    int64\n",
      "dtypes: int64(1)\n",
      "memory usage: 224.1+ MB\n"
     ]
    }
   ],
   "source": [
    "filter.info()"
   ]
  },
  {
   "cell_type": "code",
   "execution_count": 15,
   "metadata": {},
   "outputs": [],
   "source": [
    "#Reset index\n",
    "filter = filter.reset_index()"
   ]
  },
  {
   "cell_type": "code",
   "execution_count": 16,
   "metadata": {},
   "outputs": [],
   "source": [
    "#Naming the columns\n",
    "filter.columns = ['UserID','Count']"
   ]
  },
  {
   "cell_type": "code",
   "execution_count": 17,
   "metadata": {},
   "outputs": [
    {
     "data": {
      "text/html": [
       "<div>\n",
       "<style scoped>\n",
       "    .dataframe tbody tr th:only-of-type {\n",
       "        vertical-align: middle;\n",
       "    }\n",
       "\n",
       "    .dataframe tbody tr th {\n",
       "        vertical-align: top;\n",
       "    }\n",
       "\n",
       "    .dataframe thead th {\n",
       "        text-align: right;\n",
       "    }\n",
       "</style>\n",
       "<table border=\"1\" class=\"dataframe\">\n",
       "  <thead>\n",
       "    <tr style=\"text-align: right;\">\n",
       "      <th></th>\n",
       "      <th>UserID</th>\n",
       "      <th>Count</th>\n",
       "    </tr>\n",
       "  </thead>\n",
       "  <tbody>\n",
       "    <tr>\n",
       "      <td>0</td>\n",
       "      <td>A5JLAU2ARJ0BO</td>\n",
       "      <td>520</td>\n",
       "    </tr>\n",
       "    <tr>\n",
       "      <td>1</td>\n",
       "      <td>ADLVFFE4VBT8</td>\n",
       "      <td>501</td>\n",
       "    </tr>\n",
       "    <tr>\n",
       "      <td>2</td>\n",
       "      <td>A3OXHLG6DIBRW8</td>\n",
       "      <td>498</td>\n",
       "    </tr>\n",
       "    <tr>\n",
       "      <td>3</td>\n",
       "      <td>A6FIAB28IS79</td>\n",
       "      <td>431</td>\n",
       "    </tr>\n",
       "    <tr>\n",
       "      <td>4</td>\n",
       "      <td>A680RUE1FDO8B</td>\n",
       "      <td>406</td>\n",
       "    </tr>\n",
       "    <tr>\n",
       "      <td>...</td>\n",
       "      <td>...</td>\n",
       "      <td>...</td>\n",
       "    </tr>\n",
       "    <tr>\n",
       "      <td>4201691</td>\n",
       "      <td>A20P3RDQU7ERLF</td>\n",
       "      <td>1</td>\n",
       "    </tr>\n",
       "    <tr>\n",
       "      <td>4201692</td>\n",
       "      <td>A1OK3REQTPVHVJ</td>\n",
       "      <td>1</td>\n",
       "    </tr>\n",
       "    <tr>\n",
       "      <td>4201693</td>\n",
       "      <td>A1AP5HA4GVFBZS</td>\n",
       "      <td>1</td>\n",
       "    </tr>\n",
       "    <tr>\n",
       "      <td>4201694</td>\n",
       "      <td>AQYDEKH8H1LXM</td>\n",
       "      <td>1</td>\n",
       "    </tr>\n",
       "    <tr>\n",
       "      <td>4201695</td>\n",
       "      <td>A2IRGF8P6T9K9Q</td>\n",
       "      <td>1</td>\n",
       "    </tr>\n",
       "  </tbody>\n",
       "</table>\n",
       "<p>4201696 rows × 2 columns</p>\n",
       "</div>"
      ],
      "text/plain": [
       "                 UserID  Count\n",
       "0         A5JLAU2ARJ0BO    520\n",
       "1          ADLVFFE4VBT8    501\n",
       "2        A3OXHLG6DIBRW8    498\n",
       "3          A6FIAB28IS79    431\n",
       "4         A680RUE1FDO8B    406\n",
       "...                 ...    ...\n",
       "4201691  A20P3RDQU7ERLF      1\n",
       "4201692  A1OK3REQTPVHVJ      1\n",
       "4201693  A1AP5HA4GVFBZS      1\n",
       "4201694   AQYDEKH8H1LXM      1\n",
       "4201695  A2IRGF8P6T9K9Q      1\n",
       "\n",
       "[4201696 rows x 2 columns]"
      ]
     },
     "execution_count": 17,
     "metadata": {},
     "output_type": "execute_result"
    }
   ],
   "source": [
    "#Printing the dataframe\n",
    "filter"
   ]
  },
  {
   "cell_type": "code",
   "execution_count": 18,
   "metadata": {},
   "outputs": [],
   "source": [
    "#Considering the userids who have given ratings atleast 50 times\n",
    "filter = filter[filter['Count'] > 50]"
   ]
  },
  {
   "cell_type": "code",
   "execution_count": 19,
   "metadata": {},
   "outputs": [
    {
     "data": {
      "text/plain": [
       "0        A5JLAU2ARJ0BO\n",
       "1         ADLVFFE4VBT8\n",
       "2       A3OXHLG6DIBRW8\n",
       "3         A6FIAB28IS79\n",
       "4        A680RUE1FDO8B\n",
       "             ...      \n",
       "1461    A1XK4VP74IB9TQ\n",
       "1462    A12ANFNOSMW5VD\n",
       "1463    A1AKW788238PWQ\n",
       "1464     ABMNX856X89CS\n",
       "1465     AN2IZT80ZUNJN\n",
       "Name: UserID, Length: 1466, dtype: object"
      ]
     },
     "execution_count": 19,
     "metadata": {},
     "output_type": "execute_result"
    }
   ],
   "source": [
    "#Print the dataframe\n",
    "filter['UserID']"
   ]
  },
  {
   "cell_type": "code",
   "execution_count": 20,
   "metadata": {},
   "outputs": [
    {
     "data": {
      "text/html": [
       "<div>\n",
       "<style scoped>\n",
       "    .dataframe tbody tr th:only-of-type {\n",
       "        vertical-align: middle;\n",
       "    }\n",
       "\n",
       "    .dataframe tbody tr th {\n",
       "        vertical-align: top;\n",
       "    }\n",
       "\n",
       "    .dataframe thead th {\n",
       "        text-align: right;\n",
       "    }\n",
       "</style>\n",
       "<table border=\"1\" class=\"dataframe\">\n",
       "  <thead>\n",
       "    <tr style=\"text-align: right;\">\n",
       "      <th></th>\n",
       "      <th>UserID</th>\n",
       "      <th>ProductID</th>\n",
       "      <th>Ratings</th>\n",
       "      <th>TimeStamp</th>\n",
       "    </tr>\n",
       "  </thead>\n",
       "  <tbody>\n",
       "    <tr>\n",
       "      <td>0</td>\n",
       "      <td>AKM1MP6P0OYPR</td>\n",
       "      <td>0132793040</td>\n",
       "      <td>5.0</td>\n",
       "      <td>1365811200</td>\n",
       "    </tr>\n",
       "    <tr>\n",
       "      <td>1</td>\n",
       "      <td>A2CX7LUOHB2NDG</td>\n",
       "      <td>0321732944</td>\n",
       "      <td>5.0</td>\n",
       "      <td>1341100800</td>\n",
       "    </tr>\n",
       "    <tr>\n",
       "      <td>2</td>\n",
       "      <td>A2NWSAGRHCP8N5</td>\n",
       "      <td>0439886341</td>\n",
       "      <td>1.0</td>\n",
       "      <td>1367193600</td>\n",
       "    </tr>\n",
       "    <tr>\n",
       "      <td>3</td>\n",
       "      <td>A2WNBOD3WNDNKT</td>\n",
       "      <td>0439886341</td>\n",
       "      <td>3.0</td>\n",
       "      <td>1374451200</td>\n",
       "    </tr>\n",
       "    <tr>\n",
       "      <td>4</td>\n",
       "      <td>A1GI0U4ZRJA8WN</td>\n",
       "      <td>0439886341</td>\n",
       "      <td>1.0</td>\n",
       "      <td>1334707200</td>\n",
       "    </tr>\n",
       "    <tr>\n",
       "      <td>...</td>\n",
       "      <td>...</td>\n",
       "      <td>...</td>\n",
       "      <td>...</td>\n",
       "      <td>...</td>\n",
       "    </tr>\n",
       "    <tr>\n",
       "      <td>7824477</td>\n",
       "      <td>A2YZI3C9MOHC0L</td>\n",
       "      <td>BT008UKTMW</td>\n",
       "      <td>5.0</td>\n",
       "      <td>1396569600</td>\n",
       "    </tr>\n",
       "    <tr>\n",
       "      <td>7824478</td>\n",
       "      <td>A322MDK0M89RHN</td>\n",
       "      <td>BT008UKTMW</td>\n",
       "      <td>5.0</td>\n",
       "      <td>1313366400</td>\n",
       "    </tr>\n",
       "    <tr>\n",
       "      <td>7824479</td>\n",
       "      <td>A1MH90R0ADMIK0</td>\n",
       "      <td>BT008UKTMW</td>\n",
       "      <td>4.0</td>\n",
       "      <td>1404172800</td>\n",
       "    </tr>\n",
       "    <tr>\n",
       "      <td>7824480</td>\n",
       "      <td>A10M2KEFPEQDHN</td>\n",
       "      <td>BT008UKTMW</td>\n",
       "      <td>4.0</td>\n",
       "      <td>1297555200</td>\n",
       "    </tr>\n",
       "    <tr>\n",
       "      <td>7824481</td>\n",
       "      <td>A2G81TMIOIDEQQ</td>\n",
       "      <td>BT008V9J9U</td>\n",
       "      <td>5.0</td>\n",
       "      <td>1312675200</td>\n",
       "    </tr>\n",
       "  </tbody>\n",
       "</table>\n",
       "<p>7824482 rows × 4 columns</p>\n",
       "</div>"
      ],
      "text/plain": [
       "                 UserID   ProductID  Ratings   TimeStamp\n",
       "0         AKM1MP6P0OYPR  0132793040      5.0  1365811200\n",
       "1        A2CX7LUOHB2NDG  0321732944      5.0  1341100800\n",
       "2        A2NWSAGRHCP8N5  0439886341      1.0  1367193600\n",
       "3        A2WNBOD3WNDNKT  0439886341      3.0  1374451200\n",
       "4        A1GI0U4ZRJA8WN  0439886341      1.0  1334707200\n",
       "...                 ...         ...      ...         ...\n",
       "7824477  A2YZI3C9MOHC0L  BT008UKTMW      5.0  1396569600\n",
       "7824478  A322MDK0M89RHN  BT008UKTMW      5.0  1313366400\n",
       "7824479  A1MH90R0ADMIK0  BT008UKTMW      4.0  1404172800\n",
       "7824480  A10M2KEFPEQDHN  BT008UKTMW      4.0  1297555200\n",
       "7824481  A2G81TMIOIDEQQ  BT008V9J9U      5.0  1312675200\n",
       "\n",
       "[7824482 rows x 4 columns]"
      ]
     },
     "execution_count": 20,
     "metadata": {},
     "output_type": "execute_result"
    }
   ],
   "source": [
    "ratings"
   ]
  },
  {
   "cell_type": "code",
   "execution_count": 21,
   "metadata": {},
   "outputs": [],
   "source": [
    "#Mergin the users and ratings dataframe\n",
    "filtered_users = ratings.merge(filter,on=['UserID','UserID'])\n"
   ]
  },
  {
   "cell_type": "code",
   "execution_count": 22,
   "metadata": {},
   "outputs": [
    {
     "data": {
      "text/html": [
       "<div>\n",
       "<style scoped>\n",
       "    .dataframe tbody tr th:only-of-type {\n",
       "        vertical-align: middle;\n",
       "    }\n",
       "\n",
       "    .dataframe tbody tr th {\n",
       "        vertical-align: top;\n",
       "    }\n",
       "\n",
       "    .dataframe thead th {\n",
       "        text-align: right;\n",
       "    }\n",
       "</style>\n",
       "<table border=\"1\" class=\"dataframe\">\n",
       "  <thead>\n",
       "    <tr style=\"text-align: right;\">\n",
       "      <th></th>\n",
       "      <th>UserID</th>\n",
       "      <th>ProductID</th>\n",
       "      <th>Ratings</th>\n",
       "      <th>TimeStamp</th>\n",
       "      <th>Count</th>\n",
       "    </tr>\n",
       "  </thead>\n",
       "  <tbody>\n",
       "    <tr>\n",
       "      <td>0</td>\n",
       "      <td>AT09WGFUM934H</td>\n",
       "      <td>0594481813</td>\n",
       "      <td>3.0</td>\n",
       "      <td>1377907200</td>\n",
       "      <td>110</td>\n",
       "    </tr>\n",
       "    <tr>\n",
       "      <td>1</td>\n",
       "      <td>AT09WGFUM934H</td>\n",
       "      <td>B00005105L</td>\n",
       "      <td>5.0</td>\n",
       "      <td>1377475200</td>\n",
       "      <td>110</td>\n",
       "    </tr>\n",
       "    <tr>\n",
       "      <td>2</td>\n",
       "      <td>AT09WGFUM934H</td>\n",
       "      <td>B000068O1M</td>\n",
       "      <td>5.0</td>\n",
       "      <td>1384905600</td>\n",
       "      <td>110</td>\n",
       "    </tr>\n",
       "    <tr>\n",
       "      <td>3</td>\n",
       "      <td>AT09WGFUM934H</td>\n",
       "      <td>B000068O34</td>\n",
       "      <td>5.0</td>\n",
       "      <td>1384732800</td>\n",
       "      <td>110</td>\n",
       "    </tr>\n",
       "    <tr>\n",
       "      <td>4</td>\n",
       "      <td>AT09WGFUM934H</td>\n",
       "      <td>B000068O4J</td>\n",
       "      <td>5.0</td>\n",
       "      <td>1387238400</td>\n",
       "      <td>110</td>\n",
       "    </tr>\n",
       "    <tr>\n",
       "      <td>...</td>\n",
       "      <td>...</td>\n",
       "      <td>...</td>\n",
       "      <td>...</td>\n",
       "      <td>...</td>\n",
       "      <td>...</td>\n",
       "    </tr>\n",
       "    <tr>\n",
       "      <td>122166</td>\n",
       "      <td>A328S9RN3U5M68</td>\n",
       "      <td>B00JGL37FO</td>\n",
       "      <td>5.0</td>\n",
       "      <td>1400976000</td>\n",
       "      <td>76</td>\n",
       "    </tr>\n",
       "    <tr>\n",
       "      <td>122167</td>\n",
       "      <td>A328S9RN3U5M68</td>\n",
       "      <td>B00K00FN3O</td>\n",
       "      <td>5.0</td>\n",
       "      <td>1400544000</td>\n",
       "      <td>76</td>\n",
       "    </tr>\n",
       "    <tr>\n",
       "      <td>122168</td>\n",
       "      <td>A328S9RN3U5M68</td>\n",
       "      <td>B00L21HC7A</td>\n",
       "      <td>5.0</td>\n",
       "      <td>1405123200</td>\n",
       "      <td>76</td>\n",
       "    </tr>\n",
       "    <tr>\n",
       "      <td>122169</td>\n",
       "      <td>A328S9RN3U5M68</td>\n",
       "      <td>B00L2442H0</td>\n",
       "      <td>5.0</td>\n",
       "      <td>1405123200</td>\n",
       "      <td>76</td>\n",
       "    </tr>\n",
       "    <tr>\n",
       "      <td>122170</td>\n",
       "      <td>A328S9RN3U5M68</td>\n",
       "      <td>B00L26YDA4</td>\n",
       "      <td>5.0</td>\n",
       "      <td>1405123200</td>\n",
       "      <td>76</td>\n",
       "    </tr>\n",
       "  </tbody>\n",
       "</table>\n",
       "<p>122171 rows × 5 columns</p>\n",
       "</div>"
      ],
      "text/plain": [
       "                UserID   ProductID  Ratings   TimeStamp  Count\n",
       "0        AT09WGFUM934H  0594481813      3.0  1377907200    110\n",
       "1        AT09WGFUM934H  B00005105L      5.0  1377475200    110\n",
       "2        AT09WGFUM934H  B000068O1M      5.0  1384905600    110\n",
       "3        AT09WGFUM934H  B000068O34      5.0  1384732800    110\n",
       "4        AT09WGFUM934H  B000068O4J      5.0  1387238400    110\n",
       "...                ...         ...      ...         ...    ...\n",
       "122166  A328S9RN3U5M68  B00JGL37FO      5.0  1400976000     76\n",
       "122167  A328S9RN3U5M68  B00K00FN3O      5.0  1400544000     76\n",
       "122168  A328S9RN3U5M68  B00L21HC7A      5.0  1405123200     76\n",
       "122169  A328S9RN3U5M68  B00L2442H0      5.0  1405123200     76\n",
       "122170  A328S9RN3U5M68  B00L26YDA4      5.0  1405123200     76\n",
       "\n",
       "[122171 rows x 5 columns]"
      ]
     },
     "execution_count": 22,
     "metadata": {},
     "output_type": "execute_result"
    }
   ],
   "source": [
    "filtered_users"
   ]
  },
  {
   "cell_type": "code",
   "execution_count": 23,
   "metadata": {},
   "outputs": [],
   "source": [
    "#Drop the count column\n",
    "filtered_users.drop('Count', axis=1, inplace=True)\n"
   ]
  },
  {
   "cell_type": "code",
   "execution_count": 24,
   "metadata": {},
   "outputs": [],
   "source": [
    "#Drop the timestamp\n",
    "filtered_users.drop('TimeStamp', axis=1, inplace=True)"
   ]
  },
  {
   "cell_type": "code",
   "execution_count": 25,
   "metadata": {},
   "outputs": [
    {
     "data": {
      "text/html": [
       "<div>\n",
       "<style scoped>\n",
       "    .dataframe tbody tr th:only-of-type {\n",
       "        vertical-align: middle;\n",
       "    }\n",
       "\n",
       "    .dataframe tbody tr th {\n",
       "        vertical-align: top;\n",
       "    }\n",
       "\n",
       "    .dataframe thead th {\n",
       "        text-align: right;\n",
       "    }\n",
       "</style>\n",
       "<table border=\"1\" class=\"dataframe\">\n",
       "  <thead>\n",
       "    <tr style=\"text-align: right;\">\n",
       "      <th></th>\n",
       "      <th>UserID</th>\n",
       "      <th>ProductID</th>\n",
       "      <th>Ratings</th>\n",
       "    </tr>\n",
       "  </thead>\n",
       "  <tbody>\n",
       "    <tr>\n",
       "      <td>0</td>\n",
       "      <td>AT09WGFUM934H</td>\n",
       "      <td>0594481813</td>\n",
       "      <td>3.0</td>\n",
       "    </tr>\n",
       "    <tr>\n",
       "      <td>1</td>\n",
       "      <td>AT09WGFUM934H</td>\n",
       "      <td>B00005105L</td>\n",
       "      <td>5.0</td>\n",
       "    </tr>\n",
       "    <tr>\n",
       "      <td>2</td>\n",
       "      <td>AT09WGFUM934H</td>\n",
       "      <td>B000068O1M</td>\n",
       "      <td>5.0</td>\n",
       "    </tr>\n",
       "    <tr>\n",
       "      <td>3</td>\n",
       "      <td>AT09WGFUM934H</td>\n",
       "      <td>B000068O34</td>\n",
       "      <td>5.0</td>\n",
       "    </tr>\n",
       "    <tr>\n",
       "      <td>4</td>\n",
       "      <td>AT09WGFUM934H</td>\n",
       "      <td>B000068O4J</td>\n",
       "      <td>5.0</td>\n",
       "    </tr>\n",
       "    <tr>\n",
       "      <td>...</td>\n",
       "      <td>...</td>\n",
       "      <td>...</td>\n",
       "      <td>...</td>\n",
       "    </tr>\n",
       "    <tr>\n",
       "      <td>122166</td>\n",
       "      <td>A328S9RN3U5M68</td>\n",
       "      <td>B00JGL37FO</td>\n",
       "      <td>5.0</td>\n",
       "    </tr>\n",
       "    <tr>\n",
       "      <td>122167</td>\n",
       "      <td>A328S9RN3U5M68</td>\n",
       "      <td>B00K00FN3O</td>\n",
       "      <td>5.0</td>\n",
       "    </tr>\n",
       "    <tr>\n",
       "      <td>122168</td>\n",
       "      <td>A328S9RN3U5M68</td>\n",
       "      <td>B00L21HC7A</td>\n",
       "      <td>5.0</td>\n",
       "    </tr>\n",
       "    <tr>\n",
       "      <td>122169</td>\n",
       "      <td>A328S9RN3U5M68</td>\n",
       "      <td>B00L2442H0</td>\n",
       "      <td>5.0</td>\n",
       "    </tr>\n",
       "    <tr>\n",
       "      <td>122170</td>\n",
       "      <td>A328S9RN3U5M68</td>\n",
       "      <td>B00L26YDA4</td>\n",
       "      <td>5.0</td>\n",
       "    </tr>\n",
       "  </tbody>\n",
       "</table>\n",
       "<p>122171 rows × 3 columns</p>\n",
       "</div>"
      ],
      "text/plain": [
       "                UserID   ProductID  Ratings\n",
       "0        AT09WGFUM934H  0594481813      3.0\n",
       "1        AT09WGFUM934H  B00005105L      5.0\n",
       "2        AT09WGFUM934H  B000068O1M      5.0\n",
       "3        AT09WGFUM934H  B000068O34      5.0\n",
       "4        AT09WGFUM934H  B000068O4J      5.0\n",
       "...                ...         ...      ...\n",
       "122166  A328S9RN3U5M68  B00JGL37FO      5.0\n",
       "122167  A328S9RN3U5M68  B00K00FN3O      5.0\n",
       "122168  A328S9RN3U5M68  B00L21HC7A      5.0\n",
       "122169  A328S9RN3U5M68  B00L2442H0      5.0\n",
       "122170  A328S9RN3U5M68  B00L26YDA4      5.0\n",
       "\n",
       "[122171 rows x 3 columns]"
      ]
     },
     "execution_count": 25,
     "metadata": {},
     "output_type": "execute_result"
    }
   ],
   "source": [
    "#filtered_users DataFrame contains only users who have given at least 50 reviews\n",
    "filtered_users"
   ]
  },
  {
   "cell_type": "code",
   "execution_count": 26,
   "metadata": {},
   "outputs": [],
   "source": [
    "#Import Surprise library\n",
    "from surprise import Reader\n",
    "from surprise.model_selection import train_test_split"
   ]
  },
  {
   "cell_type": "code",
   "execution_count": 27,
   "metadata": {},
   "outputs": [],
   "source": [
    "#Scale from 1 to 5\n",
    "reader = Reader(rating_scale=(1, 5))"
   ]
  },
  {
   "cell_type": "code",
   "execution_count": 28,
   "metadata": {},
   "outputs": [],
   "source": [
    "#Loading to surprise dataset from Pandas dataframe\n",
    "from surprise import Dataset\n",
    "data = Dataset.load_from_df(filtered_users, reader)"
   ]
  },
  {
   "cell_type": "code",
   "execution_count": 29,
   "metadata": {},
   "outputs": [
    {
     "data": {
      "text/plain": [
       "<surprise.dataset.DatasetAutoFolds at 0x1a1e3122d0>"
      ]
     },
     "execution_count": 29,
     "metadata": {},
     "output_type": "execute_result"
    }
   ],
   "source": [
    "data"
   ]
  },
  {
   "cell_type": "code",
   "execution_count": 30,
   "metadata": {},
   "outputs": [],
   "source": [
    "#Train, test split in the 70% and 30% ratio\n",
    "trainset, testset = train_test_split(data, test_size=0.3)\n"
   ]
  },
  {
   "cell_type": "code",
   "execution_count": 31,
   "metadata": {},
   "outputs": [
    {
     "name": "stdout",
     "output_type": "stream",
     "text": [
      "36652\n",
      "('AWNJAY0M5UI70', 'B0036Q7MV0', 5.0)\n"
     ]
    }
   ],
   "source": [
    "#Printing sample testset and count of testset\n",
    "print(len(testset))\n",
    "print(testset[0])"
   ]
  },
  {
   "cell_type": "code",
   "execution_count": 32,
   "metadata": {},
   "outputs": [
    {
     "name": "stdout",
     "output_type": "stream",
     "text": [
      "Number of users:  1466 \n",
      "\n",
      "Number of items:  37384 \n",
      "\n"
     ]
    }
   ],
   "source": [
    "#Print number of users and Items\n",
    "print('Number of users: ', trainset.n_users, '\\n')\n",
    "print('Number of items: ', trainset.n_items, '\\n')"
   ]
  },
  {
   "cell_type": "code",
   "execution_count": 33,
   "metadata": {},
   "outputs": [],
   "source": [
    "#Import the surprise algorithms and accuracy\n",
    "from surprise.prediction_algorithms import knns\n",
    "from surprise.similarities import cosine, msd, pearson\n",
    "from surprise import accuracy"
   ]
  },
  {
   "cell_type": "code",
   "execution_count": 34,
   "metadata": {},
   "outputs": [],
   "source": [
    "sim_cos = {'name':'cosine', 'user_based':True}"
   ]
  },
  {
   "cell_type": "code",
   "execution_count": 35,
   "metadata": {},
   "outputs": [
    {
     "name": "stdout",
     "output_type": "stream",
     "text": [
      "Computing the cosine similarity matrix...\n",
      "Done computing similarity matrix.\n"
     ]
    },
    {
     "data": {
      "text/plain": [
       "<surprise.prediction_algorithms.knns.KNNBasic at 0x1a25454510>"
      ]
     },
     "execution_count": 35,
     "metadata": {},
     "output_type": "execute_result"
    }
   ],
   "source": [
    "#KNNBasic Model\n",
    "basic = knns.KNNBasic(sim_options=sim_cos)\n",
    "basic.fit(trainset)"
   ]
  },
  {
   "cell_type": "code",
   "execution_count": 36,
   "metadata": {},
   "outputs": [
    {
     "data": {
      "text/plain": [
       "array([[1.        , 0.        , 0.        , ..., 0.        , 0.        ,\n",
       "        0.        ],\n",
       "       [0.        , 1.        , 0.99453584, ..., 0.        , 0.        ,\n",
       "        0.93742527],\n",
       "       [0.        , 0.99453584, 1.        , ..., 0.        , 0.        ,\n",
       "        0.        ],\n",
       "       ...,\n",
       "       [0.        , 0.        , 0.        , ..., 1.        , 0.        ,\n",
       "        0.        ],\n",
       "       [0.        , 0.        , 0.        , ..., 0.        , 1.        ,\n",
       "        0.        ],\n",
       "       [0.        , 0.93742527, 0.        , ..., 0.        , 0.        ,\n",
       "        1.        ]])"
      ]
     },
     "execution_count": 36,
     "metadata": {},
     "output_type": "execute_result"
    }
   ],
   "source": [
    "basic.sim"
   ]
  },
  {
   "cell_type": "code",
   "execution_count": 37,
   "metadata": {},
   "outputs": [],
   "source": [
    "predictions = basic.test(testset)"
   ]
  },
  {
   "cell_type": "code",
   "execution_count": 38,
   "metadata": {},
   "outputs": [
    {
     "name": "stdout",
     "output_type": "stream",
     "text": [
      "RMSE: 1.1035\n",
      "1.103458547763697\n"
     ]
    }
   ],
   "source": [
    "#Print RMSE\n",
    "print(accuracy.rmse(predictions))"
   ]
  },
  {
   "cell_type": "code",
   "execution_count": 39,
   "metadata": {},
   "outputs": [
    {
     "name": "stdout",
     "output_type": "stream",
     "text": [
      "Computing the pearson similarity matrix...\n",
      "Done computing similarity matrix.\n",
      "RMSE: 1.0895\n",
      "1.08947802805376\n"
     ]
    }
   ],
   "source": [
    "#KNNBasic with sim_perason\n",
    "sim_pearson = {'name':'pearson', 'user_based':True}\n",
    "basic_pearson = knns.KNNBasic(sim_options=sim_pearson)\n",
    "basic_pearson.fit(trainset)\n",
    "predictions = basic_pearson.test(testset)\n",
    "print(accuracy.rmse(predictions))"
   ]
  },
  {
   "cell_type": "code",
   "execution_count": 40,
   "metadata": {},
   "outputs": [
    {
     "name": "stdout",
     "output_type": "stream",
     "text": [
      "Estimating biases using als...\n",
      "Computing the pearson similarity matrix...\n",
      "Done computing similarity matrix.\n",
      "RMSE: 1.0174\n",
      "1.0173623865061212\n"
     ]
    }
   ],
   "source": [
    "#KNN with Means seems to have the best RMSE\n",
    "sim_pearson = {'name':'pearson', 'user_based':True}\n",
    "knn_baseline = knns.KNNBaseline(sim_options=sim_pearson)\n",
    "knn_baseline.fit(trainset)\n",
    "predictions = knn_baseline.test(testset)\n",
    "print(accuracy.rmse(predictions))"
   ]
  },
  {
   "cell_type": "code",
   "execution_count": 45,
   "metadata": {},
   "outputs": [
    {
     "data": {
      "text/html": [
       "<div>\n",
       "<style scoped>\n",
       "    .dataframe tbody tr th:only-of-type {\n",
       "        vertical-align: middle;\n",
       "    }\n",
       "\n",
       "    .dataframe tbody tr th {\n",
       "        vertical-align: top;\n",
       "    }\n",
       "\n",
       "    .dataframe thead th {\n",
       "        text-align: right;\n",
       "    }\n",
       "</style>\n",
       "<table border=\"1\" class=\"dataframe\">\n",
       "  <thead>\n",
       "    <tr style=\"text-align: right;\">\n",
       "      <th></th>\n",
       "      <th>uid</th>\n",
       "      <th>iid</th>\n",
       "      <th>rui</th>\n",
       "      <th>est</th>\n",
       "      <th>details</th>\n",
       "      <th>Iu</th>\n",
       "      <th>Ui</th>\n",
       "      <th>err</th>\n",
       "    </tr>\n",
       "  </thead>\n",
       "  <tbody>\n",
       "    <tr>\n",
       "      <td>0</td>\n",
       "      <td>AWNJAY0M5UI70</td>\n",
       "      <td>B0036Q7MV0</td>\n",
       "      <td>5.0</td>\n",
       "      <td>4.941775</td>\n",
       "      <td>{'actual_k': 0, 'was_impossible': False}</td>\n",
       "      <td>80</td>\n",
       "      <td>26</td>\n",
       "      <td>0.058225</td>\n",
       "    </tr>\n",
       "    <tr>\n",
       "      <td>1</td>\n",
       "      <td>A3KCETSIJNOK56</td>\n",
       "      <td>B00E1MRYK2</td>\n",
       "      <td>4.0</td>\n",
       "      <td>3.968065</td>\n",
       "      <td>{'was_impossible': False}</td>\n",
       "      <td>38</td>\n",
       "      <td>0</td>\n",
       "      <td>0.031935</td>\n",
       "    </tr>\n",
       "    <tr>\n",
       "      <td>2</td>\n",
       "      <td>AEL6CQNQXONBX</td>\n",
       "      <td>B00CQOYG30</td>\n",
       "      <td>5.0</td>\n",
       "      <td>4.280343</td>\n",
       "      <td>{'actual_k': 0, 'was_impossible': False}</td>\n",
       "      <td>104</td>\n",
       "      <td>1</td>\n",
       "      <td>0.719657</td>\n",
       "    </tr>\n",
       "    <tr>\n",
       "      <td>3</td>\n",
       "      <td>A1BBYSMT9YCODI</td>\n",
       "      <td>B00D3F7D7M</td>\n",
       "      <td>4.0</td>\n",
       "      <td>4.010616</td>\n",
       "      <td>{'actual_k': 1, 'was_impossible': False}</td>\n",
       "      <td>52</td>\n",
       "      <td>21</td>\n",
       "      <td>0.010616</td>\n",
       "    </tr>\n",
       "    <tr>\n",
       "      <td>4</td>\n",
       "      <td>A32NEDX6UVV8DE</td>\n",
       "      <td>B001BX5XDO</td>\n",
       "      <td>5.0</td>\n",
       "      <td>4.440087</td>\n",
       "      <td>{'was_impossible': False}</td>\n",
       "      <td>52</td>\n",
       "      <td>0</td>\n",
       "      <td>0.559913</td>\n",
       "    </tr>\n",
       "    <tr>\n",
       "      <td>...</td>\n",
       "      <td>...</td>\n",
       "      <td>...</td>\n",
       "      <td>...</td>\n",
       "      <td>...</td>\n",
       "      <td>...</td>\n",
       "      <td>...</td>\n",
       "      <td>...</td>\n",
       "      <td>...</td>\n",
       "    </tr>\n",
       "    <tr>\n",
       "      <td>36647</td>\n",
       "      <td>A74UT8IQCM0I2</td>\n",
       "      <td>B00CEZBKTO</td>\n",
       "      <td>5.0</td>\n",
       "      <td>4.618871</td>\n",
       "      <td>{'actual_k': 0, 'was_impossible': False}</td>\n",
       "      <td>37</td>\n",
       "      <td>3</td>\n",
       "      <td>0.381129</td>\n",
       "    </tr>\n",
       "    <tr>\n",
       "      <td>36648</td>\n",
       "      <td>A2L42QEWR77PKZ</td>\n",
       "      <td>B005PYWIWY</td>\n",
       "      <td>5.0</td>\n",
       "      <td>4.347185</td>\n",
       "      <td>{'was_impossible': False}</td>\n",
       "      <td>76</td>\n",
       "      <td>0</td>\n",
       "      <td>0.652815</td>\n",
       "    </tr>\n",
       "    <tr>\n",
       "      <td>36649</td>\n",
       "      <td>A2Q7OJTVPIO2XH</td>\n",
       "      <td>B005HMKKH4</td>\n",
       "      <td>4.0</td>\n",
       "      <td>4.278156</td>\n",
       "      <td>{'actual_k': 0, 'was_impossible': False}</td>\n",
       "      <td>36</td>\n",
       "      <td>55</td>\n",
       "      <td>0.278156</td>\n",
       "    </tr>\n",
       "    <tr>\n",
       "      <td>36650</td>\n",
       "      <td>A1U5NWJOYH2QQH</td>\n",
       "      <td>B001JTQUYG</td>\n",
       "      <td>5.0</td>\n",
       "      <td>3.970135</td>\n",
       "      <td>{'was_impossible': False}</td>\n",
       "      <td>78</td>\n",
       "      <td>0</td>\n",
       "      <td>1.029865</td>\n",
       "    </tr>\n",
       "    <tr>\n",
       "      <td>36651</td>\n",
       "      <td>A2QI2JHSIQ3SN3</td>\n",
       "      <td>B007WTAJTO</td>\n",
       "      <td>5.0</td>\n",
       "      <td>3.980413</td>\n",
       "      <td>{'actual_k': 1, 'was_impossible': False}</td>\n",
       "      <td>42</td>\n",
       "      <td>107</td>\n",
       "      <td>1.019587</td>\n",
       "    </tr>\n",
       "  </tbody>\n",
       "</table>\n",
       "<p>36652 rows × 8 columns</p>\n",
       "</div>"
      ],
      "text/plain": [
       "                  uid         iid  rui       est  \\\n",
       "0       AWNJAY0M5UI70  B0036Q7MV0  5.0  4.941775   \n",
       "1      A3KCETSIJNOK56  B00E1MRYK2  4.0  3.968065   \n",
       "2       AEL6CQNQXONBX  B00CQOYG30  5.0  4.280343   \n",
       "3      A1BBYSMT9YCODI  B00D3F7D7M  4.0  4.010616   \n",
       "4      A32NEDX6UVV8DE  B001BX5XDO  5.0  4.440087   \n",
       "...               ...         ...  ...       ...   \n",
       "36647   A74UT8IQCM0I2  B00CEZBKTO  5.0  4.618871   \n",
       "36648  A2L42QEWR77PKZ  B005PYWIWY  5.0  4.347185   \n",
       "36649  A2Q7OJTVPIO2XH  B005HMKKH4  4.0  4.278156   \n",
       "36650  A1U5NWJOYH2QQH  B001JTQUYG  5.0  3.970135   \n",
       "36651  A2QI2JHSIQ3SN3  B007WTAJTO  5.0  3.980413   \n",
       "\n",
       "                                        details   Iu   Ui       err  \n",
       "0      {'actual_k': 0, 'was_impossible': False}   80   26  0.058225  \n",
       "1                     {'was_impossible': False}   38    0  0.031935  \n",
       "2      {'actual_k': 0, 'was_impossible': False}  104    1  0.719657  \n",
       "3      {'actual_k': 1, 'was_impossible': False}   52   21  0.010616  \n",
       "4                     {'was_impossible': False}   52    0  0.559913  \n",
       "...                                         ...  ...  ...       ...  \n",
       "36647  {'actual_k': 0, 'was_impossible': False}   37    3  0.381129  \n",
       "36648                 {'was_impossible': False}   76    0  0.652815  \n",
       "36649  {'actual_k': 0, 'was_impossible': False}   36   55  0.278156  \n",
       "36650                 {'was_impossible': False}   78    0  1.029865  \n",
       "36651  {'actual_k': 1, 'was_impossible': False}   42  107  1.019587  \n",
       "\n",
       "[36652 rows x 8 columns]"
      ]
     },
     "execution_count": 45,
     "metadata": {},
     "output_type": "execute_result"
    }
   ],
   "source": [
    "#Function to build pandas dataframe with all the predictions\n",
    "def get_Iu(uid):\n",
    "    \"\"\" return the number of items rated by given user\n",
    "    args: \n",
    "      uid: the id of the user\n",
    "    returns: \n",
    "      the number of items rated by the user\n",
    "    \"\"\"\n",
    "    try:\n",
    "        return len(trainset.ur[trainset.to_inner_uid(uid)])\n",
    "    except ValueError: # user was not part of the trainset\n",
    "        return 0\n",
    "    \n",
    "def get_Ui(iid):\n",
    "    \"\"\" return number of users that have rated given item\n",
    "    args:\n",
    "      iid: the raw id of the item\n",
    "    returns:\n",
    "      the number of users that have rated the item.\n",
    "    \"\"\"\n",
    "    try: \n",
    "        return len(trainset.ir[trainset.to_inner_iid(iid)])\n",
    "    except ValueError:\n",
    "        return 0\n",
    "    \n",
    "df = pd.DataFrame(predictions, columns=['uid', 'iid', 'rui', 'est', 'details'])\n",
    "df['Iu'] = df.uid.apply(get_Iu)\n",
    "df['Ui'] = df.iid.apply(get_Ui)\n",
    "df['err'] = abs(df.est - df.rui)\n"
   ]
  },
  {
   "cell_type": "code",
   "execution_count": 48,
   "metadata": {},
   "outputs": [
    {
     "data": {
      "text/html": [
       "<div>\n",
       "<style scoped>\n",
       "    .dataframe tbody tr th:only-of-type {\n",
       "        vertical-align: middle;\n",
       "    }\n",
       "\n",
       "    .dataframe tbody tr th {\n",
       "        vertical-align: top;\n",
       "    }\n",
       "\n",
       "    .dataframe thead th {\n",
       "        text-align: right;\n",
       "    }\n",
       "</style>\n",
       "<table border=\"1\" class=\"dataframe\">\n",
       "  <thead>\n",
       "    <tr style=\"text-align: right;\">\n",
       "      <th></th>\n",
       "      <th>uid</th>\n",
       "      <th>iid</th>\n",
       "      <th>rui</th>\n",
       "      <th>est</th>\n",
       "      <th>details</th>\n",
       "      <th>Iu</th>\n",
       "      <th>Ui</th>\n",
       "      <th>err</th>\n",
       "    </tr>\n",
       "  </thead>\n",
       "  <tbody>\n",
       "    <tr>\n",
       "      <td>0</td>\n",
       "      <td>AWNJAY0M5UI70</td>\n",
       "      <td>B0036Q7MV0</td>\n",
       "      <td>5.0</td>\n",
       "      <td>4.941775</td>\n",
       "      <td>{'actual_k': 0, 'was_impossible': False}</td>\n",
       "      <td>80</td>\n",
       "      <td>26</td>\n",
       "      <td>0.058225</td>\n",
       "    </tr>\n",
       "    <tr>\n",
       "      <td>14581</td>\n",
       "      <td>AWNJAY0M5UI70</td>\n",
       "      <td>B006EWUOL8</td>\n",
       "      <td>5.0</td>\n",
       "      <td>4.757895</td>\n",
       "      <td>{'actual_k': 0, 'was_impossible': False}</td>\n",
       "      <td>80</td>\n",
       "      <td>3</td>\n",
       "      <td>0.242105</td>\n",
       "    </tr>\n",
       "    <tr>\n",
       "      <td>8745</td>\n",
       "      <td>AWNJAY0M5UI70</td>\n",
       "      <td>B00A9NE84C</td>\n",
       "      <td>5.0</td>\n",
       "      <td>4.753818</td>\n",
       "      <td>{'actual_k': 0, 'was_impossible': False}</td>\n",
       "      <td>80</td>\n",
       "      <td>10</td>\n",
       "      <td>0.246182</td>\n",
       "    </tr>\n",
       "    <tr>\n",
       "      <td>501</td>\n",
       "      <td>AWNJAY0M5UI70</td>\n",
       "      <td>B005HMKKH4</td>\n",
       "      <td>5.0</td>\n",
       "      <td>4.712545</td>\n",
       "      <td>{'actual_k': 0, 'was_impossible': False}</td>\n",
       "      <td>80</td>\n",
       "      <td>55</td>\n",
       "      <td>0.287455</td>\n",
       "    </tr>\n",
       "    <tr>\n",
       "      <td>34334</td>\n",
       "      <td>AWNJAY0M5UI70</td>\n",
       "      <td>B003OBXHPC</td>\n",
       "      <td>5.0</td>\n",
       "      <td>4.683735</td>\n",
       "      <td>{'actual_k': 0, 'was_impossible': False}</td>\n",
       "      <td>80</td>\n",
       "      <td>3</td>\n",
       "      <td>0.316265</td>\n",
       "    </tr>\n",
       "  </tbody>\n",
       "</table>\n",
       "</div>"
      ],
      "text/plain": [
       "                 uid         iid  rui       est  \\\n",
       "0      AWNJAY0M5UI70  B0036Q7MV0  5.0  4.941775   \n",
       "14581  AWNJAY0M5UI70  B006EWUOL8  5.0  4.757895   \n",
       "8745   AWNJAY0M5UI70  B00A9NE84C  5.0  4.753818   \n",
       "501    AWNJAY0M5UI70  B005HMKKH4  5.0  4.712545   \n",
       "34334  AWNJAY0M5UI70  B003OBXHPC  5.0  4.683735   \n",
       "\n",
       "                                        details  Iu  Ui       err  \n",
       "0      {'actual_k': 0, 'was_impossible': False}  80  26  0.058225  \n",
       "14581  {'actual_k': 0, 'was_impossible': False}  80   3  0.242105  \n",
       "8745   {'actual_k': 0, 'was_impossible': False}  80  10  0.246182  \n",
       "501    {'actual_k': 0, 'was_impossible': False}  80  55  0.287455  \n",
       "34334  {'actual_k': 0, 'was_impossible': False}  80   3  0.316265  "
      ]
     },
     "execution_count": 48,
     "metadata": {},
     "output_type": "execute_result"
    }
   ],
   "source": [
    "#Best 5 predictions for the User Id AWNJAY0M5UI70 based on collaborative filtering\n",
    "df[df['uid'] == 'AWNJAY0M5UI70'].sort_values(by='err')[:5]"
   ]
  },
  {
   "cell_type": "code",
   "execution_count": 50,
   "metadata": {},
   "outputs": [],
   "source": [
    "#Popularity based recommendation\n",
    "popularity_filtered_users = ratings.merge(filter,on=['UserID','UserID'])"
   ]
  },
  {
   "cell_type": "code",
   "execution_count": 51,
   "metadata": {},
   "outputs": [
    {
     "data": {
      "text/html": [
       "<div>\n",
       "<style scoped>\n",
       "    .dataframe tbody tr th:only-of-type {\n",
       "        vertical-align: middle;\n",
       "    }\n",
       "\n",
       "    .dataframe tbody tr th {\n",
       "        vertical-align: top;\n",
       "    }\n",
       "\n",
       "    .dataframe thead th {\n",
       "        text-align: right;\n",
       "    }\n",
       "</style>\n",
       "<table border=\"1\" class=\"dataframe\">\n",
       "  <thead>\n",
       "    <tr style=\"text-align: right;\">\n",
       "      <th></th>\n",
       "      <th>UserID</th>\n",
       "      <th>ProductID</th>\n",
       "      <th>Ratings</th>\n",
       "      <th>TimeStamp</th>\n",
       "      <th>Count</th>\n",
       "    </tr>\n",
       "  </thead>\n",
       "  <tbody>\n",
       "    <tr>\n",
       "      <td>0</td>\n",
       "      <td>AT09WGFUM934H</td>\n",
       "      <td>0594481813</td>\n",
       "      <td>3.0</td>\n",
       "      <td>1377907200</td>\n",
       "      <td>110</td>\n",
       "    </tr>\n",
       "    <tr>\n",
       "      <td>1</td>\n",
       "      <td>AT09WGFUM934H</td>\n",
       "      <td>B00005105L</td>\n",
       "      <td>5.0</td>\n",
       "      <td>1377475200</td>\n",
       "      <td>110</td>\n",
       "    </tr>\n",
       "    <tr>\n",
       "      <td>2</td>\n",
       "      <td>AT09WGFUM934H</td>\n",
       "      <td>B000068O1M</td>\n",
       "      <td>5.0</td>\n",
       "      <td>1384905600</td>\n",
       "      <td>110</td>\n",
       "    </tr>\n",
       "    <tr>\n",
       "      <td>3</td>\n",
       "      <td>AT09WGFUM934H</td>\n",
       "      <td>B000068O34</td>\n",
       "      <td>5.0</td>\n",
       "      <td>1384732800</td>\n",
       "      <td>110</td>\n",
       "    </tr>\n",
       "    <tr>\n",
       "      <td>4</td>\n",
       "      <td>AT09WGFUM934H</td>\n",
       "      <td>B000068O4J</td>\n",
       "      <td>5.0</td>\n",
       "      <td>1387238400</td>\n",
       "      <td>110</td>\n",
       "    </tr>\n",
       "    <tr>\n",
       "      <td>...</td>\n",
       "      <td>...</td>\n",
       "      <td>...</td>\n",
       "      <td>...</td>\n",
       "      <td>...</td>\n",
       "      <td>...</td>\n",
       "    </tr>\n",
       "    <tr>\n",
       "      <td>122166</td>\n",
       "      <td>A328S9RN3U5M68</td>\n",
       "      <td>B00JGL37FO</td>\n",
       "      <td>5.0</td>\n",
       "      <td>1400976000</td>\n",
       "      <td>76</td>\n",
       "    </tr>\n",
       "    <tr>\n",
       "      <td>122167</td>\n",
       "      <td>A328S9RN3U5M68</td>\n",
       "      <td>B00K00FN3O</td>\n",
       "      <td>5.0</td>\n",
       "      <td>1400544000</td>\n",
       "      <td>76</td>\n",
       "    </tr>\n",
       "    <tr>\n",
       "      <td>122168</td>\n",
       "      <td>A328S9RN3U5M68</td>\n",
       "      <td>B00L21HC7A</td>\n",
       "      <td>5.0</td>\n",
       "      <td>1405123200</td>\n",
       "      <td>76</td>\n",
       "    </tr>\n",
       "    <tr>\n",
       "      <td>122169</td>\n",
       "      <td>A328S9RN3U5M68</td>\n",
       "      <td>B00L2442H0</td>\n",
       "      <td>5.0</td>\n",
       "      <td>1405123200</td>\n",
       "      <td>76</td>\n",
       "    </tr>\n",
       "    <tr>\n",
       "      <td>122170</td>\n",
       "      <td>A328S9RN3U5M68</td>\n",
       "      <td>B00L26YDA4</td>\n",
       "      <td>5.0</td>\n",
       "      <td>1405123200</td>\n",
       "      <td>76</td>\n",
       "    </tr>\n",
       "  </tbody>\n",
       "</table>\n",
       "<p>122171 rows × 5 columns</p>\n",
       "</div>"
      ],
      "text/plain": [
       "                UserID   ProductID  Ratings   TimeStamp  Count\n",
       "0        AT09WGFUM934H  0594481813      3.0  1377907200    110\n",
       "1        AT09WGFUM934H  B00005105L      5.0  1377475200    110\n",
       "2        AT09WGFUM934H  B000068O1M      5.0  1384905600    110\n",
       "3        AT09WGFUM934H  B000068O34      5.0  1384732800    110\n",
       "4        AT09WGFUM934H  B000068O4J      5.0  1387238400    110\n",
       "...                ...         ...      ...         ...    ...\n",
       "122166  A328S9RN3U5M68  B00JGL37FO      5.0  1400976000     76\n",
       "122167  A328S9RN3U5M68  B00K00FN3O      5.0  1400544000     76\n",
       "122168  A328S9RN3U5M68  B00L21HC7A      5.0  1405123200     76\n",
       "122169  A328S9RN3U5M68  B00L2442H0      5.0  1405123200     76\n",
       "122170  A328S9RN3U5M68  B00L26YDA4      5.0  1405123200     76\n",
       "\n",
       "[122171 rows x 5 columns]"
      ]
     },
     "execution_count": 51,
     "metadata": {},
     "output_type": "execute_result"
    }
   ],
   "source": [
    "#Print the dataframe\n",
    "popularity_filtered_users"
   ]
  },
  {
   "cell_type": "code",
   "execution_count": 53,
   "metadata": {},
   "outputs": [],
   "source": [
    "#Drop the timestamp\n",
    "popularity_filtered_users.drop('TimeStamp', axis=1, inplace=True)"
   ]
  },
  {
   "cell_type": "code",
   "execution_count": 61,
   "metadata": {},
   "outputs": [
    {
     "data": {
      "text/html": [
       "<div>\n",
       "<style scoped>\n",
       "    .dataframe tbody tr th:only-of-type {\n",
       "        vertical-align: middle;\n",
       "    }\n",
       "\n",
       "    .dataframe tbody tr th {\n",
       "        vertical-align: top;\n",
       "    }\n",
       "\n",
       "    .dataframe thead th {\n",
       "        text-align: right;\n",
       "    }\n",
       "</style>\n",
       "<table border=\"1\" class=\"dataframe\">\n",
       "  <thead>\n",
       "    <tr style=\"text-align: right;\">\n",
       "      <th></th>\n",
       "      <th>ProductID</th>\n",
       "      <th>Ratings</th>\n",
       "      <th>Count</th>\n",
       "    </tr>\n",
       "  </thead>\n",
       "  <tbody>\n",
       "    <tr>\n",
       "      <td>1330</td>\n",
       "      <td>B00003006R</td>\n",
       "      <td>5.0</td>\n",
       "      <td>520</td>\n",
       "    </tr>\n",
       "    <tr>\n",
       "      <td>1332</td>\n",
       "      <td>B00004S9AK</td>\n",
       "      <td>5.0</td>\n",
       "      <td>520</td>\n",
       "    </tr>\n",
       "    <tr>\n",
       "      <td>1335</td>\n",
       "      <td>B00004TS16</td>\n",
       "      <td>5.0</td>\n",
       "      <td>520</td>\n",
       "    </tr>\n",
       "    <tr>\n",
       "      <td>1340</td>\n",
       "      <td>B00004Z5L8</td>\n",
       "      <td>5.0</td>\n",
       "      <td>520</td>\n",
       "    </tr>\n",
       "    <tr>\n",
       "      <td>1341</td>\n",
       "      <td>B00004Z5M1</td>\n",
       "      <td>5.0</td>\n",
       "      <td>520</td>\n",
       "    </tr>\n",
       "  </tbody>\n",
       "</table>\n",
       "</div>"
      ],
      "text/plain": [
       "       ProductID  Ratings  Count\n",
       "1330  B00003006R      5.0    520\n",
       "1332  B00004S9AK      5.0    520\n",
       "1335  B00004TS16      5.0    520\n",
       "1340  B00004Z5L8      5.0    520\n",
       "1341  B00004Z5M1      5.0    520"
      ]
     },
     "execution_count": 61,
     "metadata": {},
     "output_type": "execute_result"
    }
   ],
   "source": [
    "#Print the top 5 Product IDs which have been rated 5 for most number of times.\n",
    "popularity_filtered_users[['ProductID','Ratings','Count']].sort_values(['Ratings', 'Count'], ascending=False)[:5]"
   ]
  },
  {
   "cell_type": "markdown",
   "metadata": {},
   "source": [
    "The recommendation system can be a combination of both Collaborative filtering and Popularity based \n",
    "If 10 recommentations are given to a particular user then 5 recommendations can be based on Collaborative filtering and remaining 5 recommendations can be popularity based."
   ]
  }
 ],
 "metadata": {
  "kernelspec": {
   "display_name": "Python 3",
   "language": "python",
   "name": "python3"
  },
  "language_info": {
   "codemirror_mode": {
    "name": "ipython",
    "version": 3
   },
   "file_extension": ".py",
   "mimetype": "text/x-python",
   "name": "python",
   "nbconvert_exporter": "python",
   "pygments_lexer": "ipython3",
   "version": "3.7.4"
  }
 },
 "nbformat": 4,
 "nbformat_minor": 2
}
