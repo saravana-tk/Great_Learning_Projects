{
 "cells": [
  {
   "cell_type": "code",
   "execution_count": 20,
   "metadata": {},
   "outputs": [],
   "source": [
    "import numpy as np # data processing, CSV file I/O (e.g. pd.read_csv)\n",
    "import scipy as sc\n",
    "import pandas as pd\n",
    "from scipy.stats import ttest_1samp, wilcoxon,shapiro,bartlett,ttest_rel,ttest_ind, mannwhitneyu, levene, shapiro, ttest_rel\n",
    "from statsmodels.stats.power import ttest_power"
   ]
  },
  {
   "cell_type": "code",
   "execution_count": 21,
   "metadata": {},
   "outputs": [
    {
     "name": "stdout",
     "output_type": "stream",
     "text": [
      "    SALESPERSON  Old Scheme  New Scheme\n",
      "0             1          57          62\n",
      "1             2         103         122\n",
      "2             3          59          54\n",
      "3             4          75          82\n",
      "4             5          84          84\n",
      "5             6          73          86\n",
      "6             7          35          32\n",
      "7             8         110         104\n",
      "8             9          44          38\n",
      "9            10          82         107\n",
      "10           11          67          84\n",
      "11           12          64          85\n",
      "12           13          78          99\n",
      "13           14          53          39\n",
      "14           15          41          34\n",
      "15           16          39          58\n",
      "16           17          80          73\n",
      "17           18          87          53\n",
      "18           19          73          66\n",
      "19           20          65          78\n",
      "20           21          28          41\n",
      "21           22          62          71\n",
      "22           23          49          38\n",
      "23           24          84          95\n",
      "24           25          63          81\n",
      "25           26          77          58\n",
      "26           27          67          75\n",
      "27           28         101          94\n",
      "28           29          91         100\n",
      "29           30          50          68\n"
     ]
    }
   ],
   "source": [
    "ins_df=pd.read_csv('titan.csv')\n",
    "print(ins_df) "
   ]
  },
  {
   "cell_type": "code",
   "execution_count": 22,
   "metadata": {},
   "outputs": [],
   "source": [
    "ins_df.rename(columns={'Old Scheme':'Old_Scheme','New Scheme':'New_Scheme'},inplace=True)"
   ]
  },
  {
   "cell_type": "code",
   "execution_count": 23,
   "metadata": {},
   "outputs": [],
   "source": [
    "ins_df.New_Scheme*=1000\n",
    "ins_df.Old_Scheme*=1000"
   ]
  },
  {
   "cell_type": "code",
   "execution_count": 24,
   "metadata": {},
   "outputs": [
    {
     "name": "stdout",
     "output_type": "stream",
     "text": [
      "Mean of old scheme 68033.33333333333\n",
      "Mean of New scheme 72033.33333333333\n"
     ]
    }
   ],
   "source": [
    "print(\"Mean of old scheme\",ins_df.Old_Scheme.mean())\n",
    "print(\"Mean of New scheme\",ins_df.New_Scheme.mean())"
   ]
  },
  {
   "cell_type": "code",
   "execution_count": 25,
   "metadata": {},
   "outputs": [],
   "source": [
    "# Grouping of the varriables\n",
    "post=ins_df['New_Scheme']\n",
    "pre=ins_df['Old_Scheme']"
   ]
  },
  {
   "cell_type": "code",
   "execution_count": 26,
   "metadata": {},
   "outputs": [],
   "source": [
    "#Paired Ttest since the two data samples are related\n",
    "stat, p = ttest_rel(ins_df['Old_Scheme'],ins_df['New_Scheme'])"
   ]
  },
  {
   "cell_type": "code",
   "execution_count": 27,
   "metadata": {},
   "outputs": [
    {
     "name": "stdout",
     "output_type": "stream",
     "text": [
      "0.06528776980668831\n"
     ]
    }
   ],
   "source": [
    "print(p/2) #Divide by 2 \n",
    "#The default assumption, or null hypothesis of the test, is that there is no difference \n",
    "#in the means between the samples. \n",
    "#The rejection of the null hypothesis indicates that there is enough evidence that the sample means are different.\n",
    "#Here p > 0.05. Hence null hypothese is accepted and we can infer than the new scheme has NOT signficantly \n",
    "#raised outputs"
   ]
  },
  {
   "cell_type": "markdown",
   "metadata": {},
   "source": [
    "#The default assumption, or null hypothesis of the test, is that there is no difference \n",
    "#in the means between the samples. \n",
    "#The rejection of the null hypothesis indicates that there is enough evidence that the sample means are different.\n",
    "#Here p > 0.05. Hence null hypothese is accepted and we can infer than the new scheme has NOT signficantly \n",
    "#raised outputs"
   ]
  },
  {
   "cell_type": "markdown",
   "metadata": {},
   "source": [
    "#Probability of Type I error = significant level = 0.05 or 5%"
   ]
  },
  {
   "cell_type": "code",
   "execution_count": 28,
   "metadata": {},
   "outputs": [
    {
     "data": {
      "text/plain": [
       "LeveneResult(statistic=1.063061539437245, pvalue=0.30679836081811235)"
      ]
     },
     "execution_count": 28,
     "metadata": {},
     "output_type": "execute_result"
    }
   ],
   "source": [
    "# For checking equality of variance between groups\n",
    "levene(pre,post)"
   ]
  },
  {
   "cell_type": "code",
   "execution_count": 29,
   "metadata": {},
   "outputs": [
    {
     "name": "stdout",
     "output_type": "stream",
     "text": [
      "p_value for ttest_1samp : 0.13048313490990346\n"
     ]
    }
   ],
   "source": [
    "## paired t-test: doing two measurments on the same experimental unit\n",
    "t_statistic, p_value = ttest_1samp(pre-post,1)\n",
    "print(\"p_value for ttest_1samp :\", p_value)"
   ]
  },
  {
   "cell_type": "code",
   "execution_count": 30,
   "metadata": {},
   "outputs": [
    {
     "name": "stdout",
     "output_type": "stream",
     "text": [
      "p_value for ttest_1samp : 0.7001334912613286\n"
     ]
    }
   ],
   "source": [
    "t_statistic, p_value = ttest_1samp(post-pre,5000)\n",
    "print(\"p_value for ttest_1samp :\", p_value)"
   ]
  },
  {
   "cell_type": "code",
   "execution_count": 31,
   "metadata": {},
   "outputs": [
    {
     "name": "stdout",
     "output_type": "stream",
     "text": [
      "0.06528776980668831\n"
     ]
    }
   ],
   "source": [
    "print(p/2)"
   ]
  },
  {
   "cell_type": "code",
   "execution_count": 32,
   "metadata": {},
   "outputs": [
    {
     "data": {
      "text/plain": [
       "0.13102028811290184"
      ]
     },
     "execution_count": 32,
     "metadata": {},
     "output_type": "execute_result"
    }
   ],
   "source": [
    "(np.mean(post) - np.mean(pre)) / np.sqrt(((30-1)*np.var(post)+(30-1)*np.var(pre)) / 30+30-2)"
   ]
  },
  {
   "cell_type": "code",
   "execution_count": 33,
   "metadata": {},
   "outputs": [
    {
     "name": "stdout",
     "output_type": "stream",
     "text": [
      "0.1725860302522666\n"
     ]
    }
   ],
   "source": [
    "print(ttest_power(0.131, nobs=30, alpha=0.05, alternative='larger'))"
   ]
  },
  {
   "cell_type": "code",
   "execution_count": null,
   "metadata": {},
   "outputs": [],
   "source": []
  }
 ],
 "metadata": {
  "kernelspec": {
   "display_name": "Python 3",
   "language": "python",
   "name": "python3"
  },
  "language_info": {
   "codemirror_mode": {
    "name": "ipython",
    "version": 3
   },
   "file_extension": ".py",
   "mimetype": "text/x-python",
   "name": "python",
   "nbconvert_exporter": "python",
   "pygments_lexer": "ipython3",
   "version": "3.6.5"
  }
 },
 "nbformat": 4,
 "nbformat_minor": 2
}
